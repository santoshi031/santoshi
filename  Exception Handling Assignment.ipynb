{
 "cells": [
  {
   "cell_type": "code",
   "execution_count": 17,
   "id": "be7590d9",
   "metadata": {},
   "outputs": [],
   "source": [
    "# Write a function to compute 5/0 and use try/except to catch the exceptions.\n",
    "\n",
    "def Excep_hand():\n",
    "    a=5\n",
    "    print(5/0)"
   ]
  },
  {
   "cell_type": "code",
   "execution_count": 19,
   "id": "8dc40822",
   "metadata": {},
   "outputs": [
    {
     "name": "stdout",
     "output_type": "stream",
     "text": [
      "Exception is raised: division by zero\n",
      "This is inside Arithmetic Error block\n"
     ]
    }
   ],
   "source": [
    "try:\n",
    "    Excep_hand()\n",
    "    \n",
    "except IOError as e :\n",
    "    print(\" in case of failure it will come to this block \")\n",
    "    print(e)\n",
    "    print(\"this is inside IOerror block \") \n",
    "\n",
    "except FileNotFoundError as e :\n",
    "    print(e)\n",
    "    print(\"this is inside Filenotfound error block \") \n",
    "\n",
    "except ValueError as e :\n",
    "    print(e) \n",
    "    print(\"this is inside value error block \") \n",
    "\n",
    "except ArithmeticError as e:\n",
    "    print(\"Exception is raised:\",e)\n",
    "    print(\"This is inside Arithmetic Error block\")    \n",
    "\n",
    "except Exception as e:\n",
    "    print(e)\n",
    "    print(\"This is the parent class of all Exceptions\")"
   ]
  },
  {
   "cell_type": "code",
   "execution_count": 21,
   "id": "ac718969",
   "metadata": {},
   "outputs": [
    {
     "name": "stdout",
     "output_type": "stream",
     "text": [
      "Americans Play Baseball.\n",
      "Americans Play Cricket.\n",
      "Americans Watch Baseball.\n",
      "Americans Watch Cricket.\n",
      "Indians Play Baseball.\n",
      "Indians Play Cricket.\n",
      "Indians Watch Baseball.\n",
      "Indians Watch Cricket.\n"
     ]
    }
   ],
   "source": [
    "# Implement a Python program to generate all sentences where subject is in [\"Americans\", \"Indians\"] and verb \n",
    "# is in [\"Play\", \"watch\"] and the object is in [\"Baseball\",\"cricket\"].\n",
    "\n",
    "def sub_verb_obj():\n",
    "    subject=[\"Americans\",\"Indians\"]\n",
    "    verb=[\"Play\",\"Watch\"]\n",
    "    object=[\"Baseball\",\"Cricket\"]\n",
    "    \n",
    "    for i in subject:\n",
    "        for j in verb:\n",
    "            for k in object:\n",
    "                print(i,j,k,end=\".\")\n",
    "                print()\n",
    "\n",
    "try:\n",
    "    sub_verb_obj()\n",
    "\n",
    "except Exception as e:\n",
    "    print(\"Exception is raised\",e)"
   ]
  }
 ],
 "metadata": {
  "kernelspec": {
   "display_name": "Python 3",
   "language": "python",
   "name": "python3"
  },
  "language_info": {
   "codemirror_mode": {
    "name": "ipython",
    "version": 3
   },
   "file_extension": ".py",
   "mimetype": "text/x-python",
   "name": "python",
   "nbconvert_exporter": "python",
   "pygments_lexer": "ipython3",
   "version": "3.8.8"
  }
 },
 "nbformat": 4,
 "nbformat_minor": 5
}
