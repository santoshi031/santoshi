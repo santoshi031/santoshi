{
 "cells": [
  {
   "cell_type": "code",
   "execution_count": 2,
   "metadata": {
    "scrolled": true
   },
   "outputs": [
    {
     "name": "stdout",
     "output_type": "stream",
     "text": [
      "2002,2009,2016,2023,2037,2044,2051,2058,2072,2079,2086,2093,2107,2114,2121,2128,2142,2149,2156,2163,2177,2184,2191,2198,2212,2219,2226,2233,2247,2254,2261,2268,2282,2289,2296,2303,2317,2324,2331,2338,2352,2359,2366,2373,2387,2394,2401,2408,2422,2429,2436,2443,2457,2464,2471,2478,2492,2499,2506,2513,2527,2534,2541,2548,2562,2569,2576,2583,2597,2604,2611,2618,2632,2639,2646,2653,2667,2674,2681,2688,2702,2709,2716,2723,2737,2744,2751,2758,2772,2779,2786,2793,2807,2814,2821,2828,2842,2849,2856,2863,2877,2884,2891,2898,2912,2919,2926,2933,2947,2954,2961,2968,2982,2989,2996,3003,3017,3024,3031,3038,3052,3059,3066,3073,3087,3094,3101,3108,3122,3129,3136,3143,3157,3164,3171,3178,3192,3199,\n"
     ]
    }
   ],
   "source": [
    "#python program to print the numbers between 2000 and 3200 which are divisible by 7 but not the multiples of 5\n",
    "r=range(2000,3201)\n",
    "for i in r:\n",
    "    if(i%7==0 and i%5!=0):\n",
    "     print(i,end=\",\")"
   ]
  },
  {
   "cell_type": "code",
   "execution_count": 19,
   "metadata": {},
   "outputs": [
    {
     "name": "stdout",
     "output_type": "stream",
     "text": [
      "Enter your First Name:santoshi\n",
      "enter your Last Name:pandiri\n",
      "ihsotnas iridnap\n"
     ]
    }
   ],
   "source": [
    "#python program to accept first and last name from user and print them in reverse order with space between them\n",
    "first_name=input(\"Enter your First Name:\")\n",
    "last_name=input(\"enter your Last Name:\")\n",
    "i=first_name[::-1]\n",
    "j=last_name[::-1]\n",
    "print(i,j)"
   ]
  },
  {
   "cell_type": "code",
   "execution_count": 5,
   "metadata": {},
   "outputs": [
    {
     "name": "stdout",
     "output_type": "stream",
     "text": [
      "Enter the diameter of a sphere:12\n",
      "the radius of a sphere is d/2: 6.0\n",
      "Volume of a sphere is 904.7786842338604\n"
     ]
    }
   ],
   "source": [
    "from math import * \n",
    "d=int(input(\"Enter the diameter of a sphere:\"))\n",
    "r=d/2\n",
    "print(\"the radius of a sphere is d/2:\",r)\n",
    "v=4/3*pi*r*r*r\n",
    "print(\"Volume of a sphere is\",v)\n"
   ]
  },
  {
   "cell_type": "code",
   "execution_count": null,
   "metadata": {},
   "outputs": [],
   "source": []
  }
 ],
 "metadata": {
  "kernelspec": {
   "display_name": "Python 3",
   "language": "python",
   "name": "python3"
  },
  "language_info": {
   "codemirror_mode": {
    "name": "ipython",
    "version": 3
   },
   "file_extension": ".py",
   "mimetype": "text/x-python",
   "name": "python",
   "nbconvert_exporter": "python",
   "pygments_lexer": "ipython3",
   "version": "3.8.5"
  }
 },
 "nbformat": 4,
 "nbformat_minor": 4
}
