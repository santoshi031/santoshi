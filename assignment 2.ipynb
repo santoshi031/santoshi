{
 "cells": [
  {
   "cell_type": "code",
   "execution_count": 10,
   "metadata": {},
   "outputs": [
    {
     "name": "stdout",
     "output_type": "stream",
     "text": [
      "Enter the no. of Stars:5\n",
      "\n",
      "* \n",
      "* * \n",
      "* * * \n",
      "* * * * \n",
      "* * * * * \n",
      "* * * * \n",
      "* * * \n",
      "* * \n",
      "* \n",
      "\n"
     ]
    }
   ],
   "source": [
    "#program to print the pattern f stars\n",
    "n=int(input(\"Enter the no. of Stars:\"))\n",
    "for i in range(0,n+1):\n",
    "    for j in range(0,i):\n",
    "        print(\"*\",end=\" \")\n",
    "    print()\n",
    "for i in range(n,0,-1):\n",
    "    for j in range(0,i-1):\n",
    "        print(\"*\",end=\" \")\n",
    "    print()"
   ]
  },
  {
   "cell_type": "code",
   "execution_count": 11,
   "metadata": {},
   "outputs": [
    {
     "name": "stdout",
     "output_type": "stream",
     "text": [
      "Enter any string:santoshi\n",
      "The reverse of the String is: ihsotnas\n"
     ]
    }
   ],
   "source": [
    "#program to reverse the given string from keyboard\n",
    "s=input(\"Enter any string:\")\n",
    "print(\"The reverse of the String is:\",s[::-1])"
   ]
  }
 ],
 "metadata": {
  "kernelspec": {
   "display_name": "Python 3",
   "language": "python",
   "name": "python3"
  },
  "language_info": {
   "codemirror_mode": {
    "name": "ipython",
    "version": 3
   },
   "file_extension": ".py",
   "mimetype": "text/x-python",
   "name": "python",
   "nbconvert_exporter": "python",
   "pygments_lexer": "ipython3",
   "version": "3.8.5"
  }
 },
 "nbformat": 4,
 "nbformat_minor": 4
}
