{
 "cells": [
  {
   "cell_type": "code",
   "execution_count": 7,
   "id": "38eefec9",
   "metadata": {},
   "outputs": [
    {
     "name": "stdout",
     "output_type": "stream",
     "text": [
      "('saibabajaisantu', 32)\n"
     ]
    }
   ],
   "source": [
    "# Python Program to implement your own myreduce() function which works exactly like Python's built-in function reduce()\n",
    "\n",
    "l=[1,2,3,4,5,'sai','baba','jai','santu',8,9]\n",
    "def myReduce():\n",
    "    i=''\n",
    "    k=0\n",
    "    for j in l:\n",
    "        if type(j)==str:\n",
    "            i=i+j\n",
    "        else:\n",
    "            k=k+j\n",
    "    print((i,k))\n",
    "myReduce()"
   ]
  },
  {
   "cell_type": "code",
   "execution_count": 6,
   "id": "029d8aec",
   "metadata": {},
   "outputs": [
    {
     "data": {
      "text/plain": [
       "('saibabajaisantu', 32)"
      ]
     },
     "execution_count": 6,
     "metadata": {},
     "output_type": "execute_result"
    }
   ],
   "source": [
    "# Write a Python Program to implement Python's built-in function reduce()\n",
    "\n",
    "from functools import reduce\n",
    "l=[1,2,3,4,5,'sai','baba','jai','santu',8,9]\n",
    "def fill(a,b):\n",
    "    i=''\n",
    "    k=0\n",
    "    for j in l:\n",
    "        if type(j)==str:\n",
    "            i=i+j\n",
    "        else:\n",
    "            k=k+j\n",
    "    return i,k\n",
    "\n",
    "reduce(fill,l)"
   ]
  },
  {
   "cell_type": "code",
   "execution_count": 9,
   "id": "c671caf2",
   "metadata": {},
   "outputs": [
    {
     "name": "stdout",
     "output_type": "stream",
     "text": [
      "['sai', 'santu']\n"
     ]
    }
   ],
   "source": [
    "# Program to implement your own myfilter() function which works exactly like Python's built-in function filter()\n",
    "\n",
    "l=[1,2,3,4,5,'sai','santu','baba','jai',8,9]\n",
    "def myFilter():\n",
    "    l1=[]\n",
    "    for i in l:\n",
    "        if type(i)==str:\n",
    "            if i[0]=='s' or i[0]=='S':\n",
    "                l1.append(i)\n",
    "    print(l1)\n",
    "myFilter()"
   ]
  },
  {
   "cell_type": "code",
   "execution_count": 10,
   "id": "7a9f1541",
   "metadata": {},
   "outputs": [
    {
     "data": {
      "text/plain": [
       "['sai', 'santu']"
      ]
     },
     "execution_count": 10,
     "metadata": {},
     "output_type": "execute_result"
    }
   ],
   "source": [
    "# Program to implement Python's built-in function filter()\n",
    "\n",
    "l=[1,2,3,4,5,'sai','santu','baba','jai',8,9]\n",
    "def fil(n):\n",
    "    if type(n)==str:\n",
    "        if n[0]=='s'or n[0]=='S':\n",
    "            return True\n",
    "        else:\n",
    "            return False\n",
    "    else:\n",
    "        return False\n",
    "\n",
    "list(filter(fil,l))"
   ]
  },
  {
   "cell_type": "code",
   "execution_count": 151,
   "id": "7cbf4c4c",
   "metadata": {},
   "outputs": [
    {
     "name": "stdout",
     "output_type": "stream",
     "text": [
      "['A', 'C', 'A', 'D', 'G', 'I', 'L', 'D']\n"
     ]
    }
   ],
   "source": [
    "# List comprehension to produce ['A', 'C', 'A', 'D', 'G', 'I', ’L’, ‘ D’]\n",
    "\n",
    "s='ACADGILD'\n",
    "l2=[i for i in s]\n",
    "print(l2)"
   ]
  },
  {
   "cell_type": "code",
   "execution_count": 152,
   "id": "c24d8761",
   "metadata": {},
   "outputs": [
    {
     "name": "stdout",
     "output_type": "stream",
     "text": [
      "['x', 'xx', 'xxx', 'xxxx', 'y', 'yy', 'yyy', 'yyyy', 'z', 'zz', 'zzz', 'zzzz']\n"
     ]
    }
   ],
   "source": [
    "# List comprehension to produce ['x', 'xx', 'xxx', 'xxxx', 'y', 'yy', 'yyy', 'yyyy', 'z', 'zz', 'zzz', 'zzzz']\n",
    "\n",
    "l=['x','y','z']\n",
    "l2=[i*j for i in l for j in range(1,5)]\n",
    "print(l2)"
   ]
  },
  {
   "cell_type": "code",
   "execution_count": 153,
   "id": "dfd2f1bd",
   "metadata": {},
   "outputs": [
    {
     "name": "stdout",
     "output_type": "stream",
     "text": [
      "['x', 'y', 'z', 'xx', 'yy', 'zz', 'xxx', 'yyy', 'zzz', 'xxxx', 'yyyy', 'zzzz']\n"
     ]
    }
   ],
   "source": [
    "# List comprehension to produce ['x', 'y', 'z', 'xx', 'yy', 'zz', 'xxx', 'yyy', 'zzz', 'xxxx', 'yyyy', 'zzzz']\n",
    "\n",
    "l=['x','y','z']\n",
    "l2=[i*j for i in range(1,5) for j in l]\n",
    "print(l2)"
   ]
  },
  {
   "cell_type": "code",
   "execution_count": 154,
   "id": "cd11eadf",
   "metadata": {},
   "outputs": [
    {
     "name": "stdout",
     "output_type": "stream",
     "text": [
      "[[2], [3], [4], [3], [4], [5], [4], [5], [6]]\n"
     ]
    }
   ],
   "source": [
    "#List comprehension to produce [[2], [3], [4], [3], [4], [5], [4], [5], [6]] \n",
    "\n",
    "l=[2,3,4]\n",
    "l2 = [[i+j] for j in range(3) for i in l]\n",
    "print(l2)\n",
    "        "
   ]
  },
  {
   "cell_type": "code",
   "execution_count": 155,
   "id": "e71a79a8",
   "metadata": {},
   "outputs": [
    {
     "name": "stdout",
     "output_type": "stream",
     "text": [
      "[[2, 3, 4, 5], [3, 4, 5, 6], [4, 5, 6, 7], [5, 6, 7, 8]]\n"
     ]
    }
   ],
   "source": [
    " # List comprehension to produce [[2, 3, 4, 5], [3, 4, 5, 6],[4, 5, 6, 7], [5, 6, 7, 8]]\n",
    "\n",
    "l = [2,3,4,5]\n",
    "l2 = [[i+j for j in l] for i in range(0,4)]\n",
    "print(l2)\n"
   ]
  },
  {
   "cell_type": "code",
   "execution_count": 156,
   "id": "71aea802",
   "metadata": {
    "scrolled": true
   },
   "outputs": [
    {
     "name": "stdout",
     "output_type": "stream",
     "text": [
      "[(1, 1), (2, 1), (3, 1), (1, 2), (2, 2), (3, 2), (1, 3), (2, 3), (3, 3)]\n"
     ]
    }
   ],
   "source": [
    "# List comprehension to produce [(1, 1), (2, 1), (3, 1), (1, 2), (2, 2), (3, 2), (1, 3), (2, 3), (3, 3)]\n",
    "\n",
    "l=[1,2,3]\n",
    "l1=[(j,i) for i in l for j in l]\n",
    "print(l1)\n",
    "        "
   ]
  }
 ],
 "metadata": {
  "kernelspec": {
   "display_name": "Python 3",
   "language": "python",
   "name": "python3"
  },
  "language_info": {
   "codemirror_mode": {
    "name": "ipython",
    "version": 3
   },
   "file_extension": ".py",
   "mimetype": "text/x-python",
   "name": "python",
   "nbconvert_exporter": "python",
   "pygments_lexer": "ipython3",
   "version": "3.8.8"
  }
 },
 "nbformat": 4,
 "nbformat_minor": 5
}
