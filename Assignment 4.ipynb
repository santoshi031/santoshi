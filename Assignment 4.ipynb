{
 "cells": [
  {
   "cell_type": "code",
   "execution_count": 15,
   "id": "9b1e94f5",
   "metadata": {},
   "outputs": [
    {
     "name": "stdout",
     "output_type": "stream",
     "text": [
      "Enter the value for a:10\n",
      "Enter the value for b:8\n",
      "Enter the value for c:6\n",
      "s=(a+b+c)/2\n",
      "s= 12.0\n",
      "To calculate area=(s*(s-a)*(s-b)*(s-c))**0.5\n",
      "Area of Triangle: 24.0\n"
     ]
    }
   ],
   "source": [
    "# 1.1 Write a Python Program(with class concepts) to find the area of the triangle using the below formula.\n",
    "#area = (s*(s-a)*(s-b)*(s-c)) ** 0.5\n",
    "\n",
    "class sides:\n",
    "    def sides_of_triangle(self,a,b,c):\n",
    "        self.a=int(input(\"Enter the value for a:\"))\n",
    "        self.b=int(input(\"Enter the value for b:\"))\n",
    "        self.c=int(input(\"Enter the value for c:\"))\n",
    "class Area(sides):\n",
    "    def Area_of_triangle(self):\n",
    "        a=self.a\n",
    "        b=self.b\n",
    "        c=self.c\n",
    "        s=(a+b+c)/2\n",
    "        area=(s*(s-a)*(s-b)*(s-c))**0.5\n",
    "        print(\"s=(a+b+c)/2\")\n",
    "        print(\"s=\",s)\n",
    "        print(\"To calculate area=(s*(s-a)*(s-b)*(s-c))**0.5\")\n",
    "        print(\"Area of Triangle:\",area)\n",
    "a1=Area()\n",
    "a1.sides_of_triangle('a','b','c')\n",
    "a1.Area_of_triangle()\n"
   ]
  },
  {
   "cell_type": "code",
   "execution_count": 17,
   "id": "c5218591",
   "metadata": {},
   "outputs": [
    {
     "name": "stdout",
     "output_type": "stream",
     "text": [
      "Enter the value of integer:4\n",
      "List of words greater than 4 are:\n",
      "['santoshi', 'jupyter', 'vijayalaxmi', 'venkat', 'jothi']\n"
     ]
    }
   ],
   "source": [
    "# 1.2 Write a function filter_long_words() that takes a list of words and an integer n and returns the list of words\n",
    "# that are longer than n.\n",
    "\n",
    "def filter_long_words():\n",
    "    l=[]\n",
    "    list_words=['sai','baba','jai','santoshi','jupyter','vijayalaxmi','venkat','jothi','siri','hi']\n",
    "    n=int(input(\"Enter the value of integer:\"))\n",
    "    for i in list_words:\n",
    "        if len(i)>n:\n",
    "            l.append(i)\n",
    "    print(\"List of words greater than\",n,\"are:\")\n",
    "    print(l)\n",
    "filter_long_words()"
   ]
  },
  {
   "cell_type": "code",
   "execution_count": 19,
   "id": "f6808d6a",
   "metadata": {},
   "outputs": [
    {
     "name": "stdout",
     "output_type": "stream",
     "text": [
      "[3, 4, 3]\n"
     ]
    }
   ],
   "source": [
    "# 2.1 Write a Python program using function concept that maps list of words into a list of integers representing the \n",
    "# lengths of the corresponding words.\n",
    "\n",
    "def fun(*args):\n",
    "    l=[]\n",
    "    for i in args:\n",
    "        if type(i)==list:\n",
    "            for j in i:\n",
    "                l.append(len(j))\n",
    "    print(l)\n",
    "    \n",
    "fun(['sai','baba','jai'],3,4,'sai',('hello','tell','call'))          "
   ]
  },
  {
   "cell_type": "code",
   "execution_count": 14,
   "id": "0721f82c",
   "metadata": {},
   "outputs": [
    {
     "name": "stdout",
     "output_type": "stream",
     "text": [
      "Enter any character:E\n"
     ]
    },
    {
     "data": {
      "text/plain": [
       "True"
      ]
     },
     "execution_count": 14,
     "metadata": {},
     "output_type": "execute_result"
    }
   ],
   "source": [
    "# 2.2 Write a Python function which takes a character (i.e. a string of length 1) and returns True if it is a vowel,\n",
    "# False otherwise.\n",
    "\n",
    "def vowel():\n",
    "    c=input(\"Enter any character:\")\n",
    "    n=c.lower()\n",
    "    if n=='a' or n=='e' or n=='i' or n=='e' or n=='u':\n",
    "        return True\n",
    "    else:\n",
    "        return False\n",
    "vowel()"
   ]
  }
 ],
 "metadata": {
  "kernelspec": {
   "display_name": "Python 3",
   "language": "python",
   "name": "python3"
  },
  "language_info": {
   "codemirror_mode": {
    "name": "ipython",
    "version": 3
   },
   "file_extension": ".py",
   "mimetype": "text/x-python",
   "name": "python",
   "nbconvert_exporter": "python",
   "pygments_lexer": "ipython3",
   "version": "3.8.8"
  }
 },
 "nbformat": 4,
 "nbformat_minor": 5
}
